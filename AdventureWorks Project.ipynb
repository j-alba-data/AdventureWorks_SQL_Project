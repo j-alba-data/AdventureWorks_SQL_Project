{
 "cells": [
  {
   "cell_type": "markdown",
   "id": "02d55e89",
   "metadata": {},
   "source": [
    "<h1 align=\"center\">AdventureWorks Project</h1>"
   ]
  },
  {
   "cell_type": "markdown",
   "id": "f7ca2f3a",
   "metadata": {},
   "source": [
    "## Business Problem"
   ]
  },
  {
   "cell_type": "markdown",
   "id": "6ee5f56e",
   "metadata": {},
   "source": [
    "Using a database with SQLite, gain insight by analyzing which are the best selling products and best salespeople for the outdoor sporting equipment company, AdventureWorks, and how can this insight be used to increase sales?"
   ]
  },
  {
   "cell_type": "markdown",
   "id": "758a7d23",
   "metadata": {},
   "source": [
    "### SQLite Data"
   ]
  },
  {
   "cell_type": "markdown",
   "id": "5d0ece9e",
   "metadata": {},
   "source": [
    "The data is stored in a database, which is part of a larger dataset, that includes tables Sales and Products."
   ]
  },
  {
   "cell_type": "markdown",
   "id": "5cb521ac",
   "metadata": {},
   "source": [
    "#### Import Statements"
   ]
  },
  {
   "cell_type": "code",
   "execution_count": 1,
   "id": "2064b7b8",
   "metadata": {},
   "outputs": [],
   "source": [
    "import sqlite3, pandas as pd, matplotlib.pyplot as plt, numpy as np"
   ]
  },
  {
   "cell_type": "markdown",
   "id": "bec4c1b2",
   "metadata": {},
   "source": [
    "#### Configurations"
   ]
  },
  {
   "cell_type": "markdown",
   "id": "ea7ec744",
   "metadata": {},
   "source": [
    "Autocomplete"
   ]
  },
  {
   "cell_type": "code",
   "execution_count": 2,
   "id": "b7899776",
   "metadata": {},
   "outputs": [],
   "source": [
    "%config Completer.use_jedi = False"
   ]
  },
  {
   "cell_type": "markdown",
   "id": "a8536b28",
   "metadata": {},
   "source": [
    "Max Display"
   ]
  },
  {
   "cell_type": "code",
   "execution_count": 3,
   "id": "c108154f",
   "metadata": {},
   "outputs": [],
   "source": [
    "pd.set_option('display.max_colwidth', None)"
   ]
  },
  {
   "cell_type": "markdown",
   "id": "8119a5b6",
   "metadata": {},
   "source": [
    "#### Connect Database"
   ]
  },
  {
   "cell_type": "code",
   "execution_count": 4,
   "id": "afc2c2ee",
   "metadata": {},
   "outputs": [],
   "source": [
    "conn = sqlite3.connect('AdventureWorks.db')"
   ]
  },
  {
   "cell_type": "markdown",
   "id": "c841c42d",
   "metadata": {},
   "source": [
    "#### Table Names"
   ]
  },
  {
   "cell_type": "code",
   "execution_count": 5,
   "id": "1cc33976",
   "metadata": {},
   "outputs": [
    {
     "name": "stdout",
     "output_type": "stream",
     "text": [
      "                                     name\n",
      "0                             salesperson\n",
      "1                                 product\n",
      "2   productmodelproductdescriptionculture\n",
      "3                      productdescription\n",
      "4                           productreview\n",
      "5                         productcategory\n",
      "6                      productsubcategory\n",
      "7                        salesorderdetail\n",
      "8                        salesorderheader\n",
      "9                          salesterritory\n",
      "10                  countryregioncurrency\n",
      "11                           currencyrate\n"
     ]
    }
   ],
   "source": [
    "tables_names = \"select name from sqlite_master where type='table';\"\n",
    "df = pd.read_sql_query(tables_names, conn)\n",
    "print(df)"
   ]
  },
  {
   "cell_type": "markdown",
   "id": "b147810b",
   "metadata": {},
   "source": [
    "## Best Selling Products"
   ]
  },
  {
   "cell_type": "markdown",
   "id": "df226056",
   "metadata": {},
   "source": [
    "Which are the best selling products? One approach is to use average product reviews to rank products by sales."
   ]
  },
  {
   "cell_type": "markdown",
   "id": "052b4eb2",
   "metadata": {},
   "source": [
    "Approach 1"
   ]
  },
  {
   "cell_type": "code",
   "execution_count": 6,
   "id": "3168b6cf",
   "metadata": {},
   "outputs": [
    {
     "name": "stdout",
     "output_type": "stream",
     "text": [
      "   productid                    NAME  avgrating  num_rating\n",
      "0        798   Road-550-W Yellow, 40        5.0           1\n",
      "1        709  Mountain Bike Socks, M        5.0           1\n",
      "2        937       HL Mountain Pedal        3.0           2\n"
     ]
    }
   ],
   "source": [
    "best_selling_by_reviews = \"\"\"\n",
    "select p.productId, p.name, avg(pr.rating) as avgrating, count(pr.rating) as num_rating\n",
    "from product p, productReview pr\n",
    "where p.productID = pr.productID\n",
    "group by p.productId\n",
    "order by avgrating desc;\n",
    "\"\"\"\n",
    "df = pd.read_sql_query(best_selling_by_reviews, conn)\n",
    "print(df)"
   ]
  },
  {
   "cell_type": "markdown",
   "id": "6bb33a50",
   "metadata": {},
   "source": [
    "#### Quick Analysis"
   ]
  },
  {
   "cell_type": "markdown",
   "id": "e7d4952c",
   "metadata": {},
   "source": [
    "As can be seen above, there are only a total of 4 reviews for three different products which is not a good indicator of the best selling products by average reviews. An alternative approach must be taken."
   ]
  },
  {
   "cell_type": "markdown",
   "id": "135c147d",
   "metadata": {},
   "source": [
    "Approach 2"
   ]
  },
  {
   "cell_type": "code",
   "execution_count": 7,
   "id": "bb0164e2",
   "metadata": {},
   "outputs": [
    {
     "name": "stdout",
     "output_type": "stream",
     "text": [
      "   productmodelid  \\\n",
      "0               1   \n",
      "1               2   \n",
      "2               3   \n",
      "3               4   \n",
      "4               5   \n",
      "\n",
      "                                                                                                                                                                                                                     description  \n",
      "0                                                                                                                                                                      Light-weight, wind-resistant, packs to fit into a pocket.  \n",
      "1                                                                                                                                                                      Traditional style with a flip-up brim; one-size fits all.  \n",
      "2                                                                                                                                         Synthetic palm, flexible knuckles, breathable mesh upper. Worn by the AWC team riders.  \n",
      "3                                                                                                                                                          Full padding, improved finger flex, durable palm, adjustable closure.  \n",
      "4  Each frame is hand-crafted in our Bothell facility to the optimum diameter and wall-thickness required of a premium mountain frame. The heat-treated welded aluminum frame has a larger diameter tube that absorbs the bumps.  \n"
     ]
    }
   ],
   "source": [
    "product_and_description = \"\"\"\n",
    "select pmdc.productModelID, pd.description\n",
    "from productmodelproductdescriptionculture as pmdc\n",
    "inner join\n",
    "productDescription as pd\n",
    "on pmdc.productDescriptionID = pd.productDescriptionID\n",
    "where pmdc.cultureID = 'en'\n",
    "limit 5;\n",
    "\"\"\"\n",
    "df = pd.read_sql_query(product_and_description, conn)\n",
    "print(df)"
   ]
  },
  {
   "cell_type": "markdown",
   "id": "41aa7553",
   "metadata": {},
   "source": [
    "##### Using the table above as a CTE, the product name and quantity sold can now be found by joining product and salesorderdetail tables."
   ]
  },
  {
   "cell_type": "code",
   "execution_count": 8,
   "id": "0202c190",
   "metadata": {},
   "outputs": [
    {
     "name": "stdout",
     "output_type": "stream",
     "text": [
      "   productModelID                                                description  \\\n",
      "0               2  Traditional style with a flip-up brim; one-size fits all.   \n",
      "1             111           AWC logo water bottle - holds 30 oz; leak-proof.   \n",
      "2              33   Universal fit, well-vented, lightweight , snap-on visor.   \n",
      "3              11      Unisex long-sleeve AWC logo microfiber cycling jersey   \n",
      "4              33   Universal fit, well-vented, lightweight , snap-on visor.   \n",
      "\n",
      "                         NAME  total_orders  \n",
      "0                AWC Logo Cap          8311  \n",
      "1       Water Bottle - 30 oz.          6815  \n",
      "2      Sport-100 Helmet, Blue          6743  \n",
      "3  Long-Sleeve Logo Jersey, L          6592  \n",
      "4     Sport-100 Helmet, Black          6532  \n"
     ]
    }
   ],
   "source": [
    "cte_joins = \"\"\"\n",
    "with english_description as (\n",
    "    select pmdc.productModelID, pd.description\n",
    "    from productmodelproductdescriptionculture as pmdc\n",
    "    inner join\n",
    "    productDescription as pd\n",
    "    on pmdc.productDescriptionID = pd.productDescriptionID\n",
    "    where pmdc.cultureID = 'en'\n",
    ")\n",
    "select ed.productModelID, ed.description, p.name, sum(sod.orderqty) as total_orders\n",
    "from english_description ed\n",
    "join\n",
    "product p\n",
    "on ed.productModelID = p.productModelID\n",
    "join salesOrderDetail sod\n",
    "on p.productID = sod.productID\n",
    "group by ed.productModelID, ed.description, p.name\n",
    "order by total_orders desc\n",
    "limit 5;\n",
    "\"\"\"\n",
    "df = pd.read_sql_query(cte_joins, conn)\n",
    "print(df)"
   ]
  },
  {
   "cell_type": "markdown",
   "id": "f9cad2dd",
   "metadata": {},
   "source": [
    "#### Quick Analysis"
   ]
  },
  {
   "cell_type": "markdown",
   "id": "2b1f969a",
   "metadata": {},
   "source": [
    "As can be seen above, a few of the most sold items include a cap, a water bottle and a helmet."
   ]
  },
  {
   "cell_type": "markdown",
   "id": "77e912df",
   "metadata": {},
   "source": [
    "### Sales by Category"
   ]
  },
  {
   "cell_type": "markdown",
   "id": "34ef12b2",
   "metadata": {},
   "source": [
    "Follow up question: What is the correlation, if any, between quantity sold and price per category?"
   ]
  },
  {
   "cell_type": "markdown",
   "id": "f816c41d",
   "metadata": {},
   "source": [
    "First Step - Determine total sales per product."
   ]
  },
  {
   "cell_type": "code",
   "execution_count": 9,
   "id": "0063cddd",
   "metadata": {},
   "outputs": [
    {
     "name": "stdout",
     "output_type": "stream",
     "text": [
      "     productid  quantity\n",
      "0          707      6266\n",
      "1          708      6532\n",
      "2          709      1107\n",
      "3          710        90\n",
      "4          711      6743\n",
      "..         ...       ...\n",
      "261        994       378\n",
      "262        996       543\n",
      "263        997       656\n",
      "264        998      1556\n",
      "265        999      1338\n",
      "\n",
      "[266 rows x 2 columns]\n"
     ]
    }
   ],
   "source": [
    "sales_by_id = \"\"\"\n",
    "select productID, sum(orderqty) as quantity\n",
    "from salesOrderDetail\n",
    "group by productID;\n",
    "\"\"\"\n",
    "df = pd.read_sql_query(sales_by_id, conn)\n",
    "print(df)"
   ]
  },
  {
   "cell_type": "markdown",
   "id": "a1f92536",
   "metadata": {},
   "source": [
    "Second Step - Determine list price per category and subcategory"
   ]
  },
  {
   "cell_type": "code",
   "execution_count": 10,
   "id": "a1280514",
   "metadata": {},
   "outputs": [
    {
     "name": "stdout",
     "output_type": "stream",
     "text": [
      "     productid     category      subcategory  listprice\n",
      "0          680   Components      Road Frames    1431.50\n",
      "1          706   Components      Road Frames    1431.50\n",
      "2          707  Accessories          Helmets      34.99\n",
      "3          708  Accessories          Helmets      34.99\n",
      "4          709     Clothing            Socks       9.50\n",
      "..         ...          ...              ...        ...\n",
      "290        995   Components  Bottom Brackets     101.24\n",
      "291        996   Components  Bottom Brackets     121.49\n",
      "292        997        Bikes       Road Bikes     539.99\n",
      "293        998        Bikes       Road Bikes     539.99\n",
      "294        999        Bikes       Road Bikes     539.99\n",
      "\n",
      "[295 rows x 4 columns]\n"
     ]
    }
   ],
   "source": [
    "price_per_cat = \"\"\"\n",
    "select \n",
    "    p.productID, \n",
    "    pc.name as category, \n",
    "    ps.name as subcategory, \n",
    "    p.listprice\n",
    "from product p\n",
    "join\n",
    "productSubcategory ps\n",
    "on\n",
    "p.productSubcategoryID = ps.productSubcategoryID\n",
    "join productCategory pc\n",
    "on\n",
    "ps.productCategoryID = pc.productCategoryID;\n",
    "\"\"\"\n",
    "df = pd.read_sql_query(price_per_cat, conn)\n",
    "print(df)"
   ]
  },
  {
   "cell_type": "markdown",
   "id": "9c74b346",
   "metadata": {},
   "source": [
    "Third Step - Create two CTE from both tables and join them to get the average list price and total quantity sold for each product."
   ]
  },
  {
   "cell_type": "code",
   "execution_count": 11,
   "id": "3b046c07",
   "metadata": {},
   "outputs": [],
   "source": [
    "avg_price_total_qty_sold = \"\"\"\n",
    "with product_quantites as (\n",
    "    select productID, sum(orderqty) as quantity\n",
    "    from salesOrderDetail\n",
    "    group by productID\n",
    "),\n",
    "product_prices as (\n",
    "    select \n",
    "    p.productID, \n",
    "    pc.name as category, \n",
    "    ps.name as subcategory, \n",
    "    p.listprice\n",
    "from product p\n",
    "join\n",
    "productSubcategory ps\n",
    "on\n",
    "p.productSubcategoryID = ps.productSubcategoryID\n",
    "join productCategory pc\n",
    "on\n",
    "ps.productCategoryID = pc.productCategoryID\n",
    ")\n",
    "select \n",
    "    pp.category, \n",
    "    pp.subcategory,\n",
    "    avg(pp.listPrice) as average_price_in_subcategory,\n",
    "    sum(pq.quantity) as total_items_sold_in_subcategory\n",
    "from product_quantites pq\n",
    "join product_prices pp\n",
    "on\n",
    "pq.productID = pp.productID\n",
    "group by pp.category,pp.subcategory;\n",
    "\"\"\"\n",
    "df = pd.read_sql_query(avg_price_total_qty_sold, conn)\n",
    "# print(df)"
   ]
  },
  {
   "cell_type": "markdown",
   "id": "61b84c57",
   "metadata": {},
   "source": [
    "#### Quick Analysis"
   ]
  },
  {
   "cell_type": "markdown",
   "id": "2b10b198",
   "metadata": {},
   "source": [
    "Plotting average_price_in_subcategory and total_items_sold_in_subcategory"
   ]
  },
  {
   "cell_type": "code",
   "execution_count": 12,
   "id": "95d907ab",
   "metadata": {},
   "outputs": [
    {
     "data": {
      "image/png": "[encoded data removed]",
      "text/plain": [
       "<Figure size 720x432 with 1 Axes>"
      ]
     },
     "metadata": {
      "needs_background": "light"
     },
     "output_type": "display_data"
    },
    {
     "name": "stdout",
     "output_type": "stream",
     "text": [
      "The correlation between average_price_in_subcategory and total_items_sold_in_subcategory is 0.68.\n"
     ]
    }
   ],
   "source": [
    "# Create a scatter plot\n",
    "plt.figure(figsize=(10,6))\n",
    "plt.scatter(df['average_price_in_subcategory'], df['total_items_sold_in_subcategory'])\n",
    "\n",
    "# Calculate the best fit line\n",
    "m, b = np.polyfit(df['average_price_in_subcategory'], df['total_items_sold_in_subcategory'], 1)\n",
    "\n",
    "# Add the best fit line\n",
    "plt.plot(df['average_price_in_subcategory'], m*df['average_price_in_subcategory'] + b, color='red')\n",
    "\n",
    "plt.xlabel('Average Price in Subcategory', fontsize = 14)\n",
    "plt.ylabel('Total Items Sold in Subcategory', fontsize = 14)\n",
    "plt.title('Average Price in Subcategory vs Total Items Sold in Subcategory with Best Fit Line', fontsize=16)\n",
    "plt.show()\n",
    "\n",
    "# Calculate the correlation\n",
    "correlation = df['average_price_in_subcategory'].corr(df['total_items_sold_in_subcategory'])\n",
    "\n",
    "print(f\"The correlation between average_price_in_subcategory and total_items_sold_in_subcategory is {correlation.round(2)}.\")"
   ]
  },
  {
   "cell_type": "markdown",
   "id": "ff2e1b26",
   "metadata": {},
   "source": [
    "## Top Salespeople"
   ]
  },
  {
   "cell_type": "markdown",
   "id": "6624063f",
   "metadata": {},
   "source": [
    "Who are the top salespeople and does the commission percentage motive them?"
   ]
  },
  {
   "cell_type": "markdown",
   "id": "5a559482",
   "metadata": {},
   "source": [
    "Approach 1"
   ]
  },
  {
   "cell_type": "markdown",
   "id": "6e78d421",
   "metadata": {},
   "source": [
    "Top 5 Salespeople"
   ]
  },
  {
   "cell_type": "code",
   "execution_count": 13,
   "id": "a47224ef",
   "metadata": {},
   "outputs": [
    {
     "name": "stdout",
     "output_type": "stream",
     "text": [
      "   businessentityid   salesytd\n",
      "0               276 4251368.55\n",
      "1               289 4116871.23\n",
      "2               275 3763178.18\n",
      "3               277 3189418.37\n",
      "4               290 3121616.32\n"
     ]
    }
   ],
   "source": [
    "# Turn off scientific notation\n",
    "pd.set_option('display.float_format', lambda x: '%.2f' % x)\n",
    "\n",
    "top_five = \"\"\"\n",
    "select businessEntityID, salesytd\n",
    "from salesPerson\n",
    "order by salesytd desc\n",
    "limit 5;\n",
    "\"\"\"\n",
    "df = pd.read_sql_query(top_five, conn)\n",
    "print(df)"
   ]
  },
  {
   "cell_type": "code",
   "execution_count": 14,
   "id": "e4239f77",
   "metadata": {},
   "outputs": [],
   "source": [
    "# Reset to the default option\n",
    "# pd.reset_option('display.float_format')"
   ]
  },
  {
   "cell_type": "markdown",
   "id": "e2378f4c",
   "metadata": {},
   "source": [
    "##### This data will be cross-referenced by use of another approach to calcuate top salespeople."
   ]
  },
  {
   "cell_type": "markdown",
   "id": "37239787",
   "metadata": {},
   "source": [
    "Approach 2"
   ]
  },
  {
   "cell_type": "code",
   "execution_count": 15,
   "id": "5ecca2b4",
   "metadata": {},
   "outputs": [
    {
     "name": "stdout",
     "output_type": "stream",
     "text": [
      "   salespersonid  totalsales\n",
      "0            289  1382996.58\n",
      "1            276  1271088.52\n",
      "2            275  1057247.38\n",
      "3            282  1044810.83\n",
      "4            277  1040093.41\n"
     ]
    }
   ],
   "source": [
    "top_5_2014 = \"\"\"\n",
    "select salespersonid, sum(subtotal) as totalsales\n",
    "from salesOrderHeader\n",
    "where (salesPersonID is not null and salesPersonId <> \"\")\n",
    "and orderDate >= '2014-01-01'\n",
    "group by salespersonid\n",
    "order by totalsales desc\n",
    "limit 5;\n",
    "\"\"\"\n",
    "df = pd.read_sql_query(top_5_2014, conn)\n",
    "print(df)"
   ]
  },
  {
   "cell_type": "markdown",
   "id": "605a55b8",
   "metadata": {},
   "source": [
    "#### Quick Analysis"
   ]
  },
  {
   "cell_type": "markdown",
   "id": "dfc88da5",
   "metadata": {},
   "source": [
    "The second approach includes salespersonid 282 instead of salespersonid 290 from the first approach. Therefore, a third approach needs to be implemented."
   ]
  },
  {
   "cell_type": "markdown",
   "id": "46be37af",
   "metadata": {},
   "source": [
    "Approach 3"
   ]
  },
  {
   "cell_type": "code",
   "execution_count": 16,
   "id": "ab1bd174",
   "metadata": {},
   "outputs": [
    {
     "name": "stdout",
     "output_type": "stream",
     "text": [
      "   salesorderid  ordertotal\n",
      "0         43659    20565.62\n",
      "1         43660     1294.25\n",
      "2         43661    32726.48\n",
      "3         43662    28832.53\n",
      "4         43663      419.46\n",
      "5         43664    24432.61\n",
      "6         43665    14352.77\n",
      "7         43666     5056.49\n",
      "8         43667     6107.08\n",
      "9         43668    35944.16\n"
     ]
    }
   ],
   "source": [
    "total_by_id = \"\"\"\n",
    "select salesOrderID,\n",
    "       sum((unitPrice - (unitPrice * unitPriceDiscount)) * orderQty) as ordertotal\n",
    "from salesOrderDetail\n",
    "group by salesOrderID\n",
    "limit 10;\n",
    "\"\"\"\n",
    "df = pd.read_sql_query(total_by_id, conn)\n",
    "print(df)"
   ]
  },
  {
   "cell_type": "code",
   "execution_count": 17,
   "id": "26fe2b65",
   "metadata": {},
   "outputs": [
    {
     "name": "stdout",
     "output_type": "stream",
     "text": [
      "   salesPersonID  ordertotalsum\n",
      "0            289     1382996.58\n",
      "1            276     1271088.52\n",
      "2            275     1057247.38\n",
      "3            282     1044810.83\n",
      "4            277     1040093.41\n"
     ]
    }
   ],
   "source": [
    "top_sales_2014 = \"\"\"\n",
    "with salesPersonAndOrders as (\n",
    "    select salesPersonID, salesOrderID\n",
    "    from salesOrderHeader\n",
    "    where (salesPersonID is not null and salesPersonId <> \"\")\n",
    "    and orderDate >= '2014-01-01'\n",
    "), orders as (\n",
    "    select salesOrderID,\n",
    "        sum((unitPrice - (unitPrice * unitPriceDiscount)) * orderQty) as ordertotal\n",
    "        from salesOrderDetail\n",
    "        group by salesOrderID\n",
    ")\n",
    "select spo.salesPersonID, sum(o.ordertotal) as ordertotalsum\n",
    "from salesPersonAndOrders spo\n",
    "join\n",
    "orders o\n",
    "on\n",
    "spo.salesOrderID = o.salesOrderID\n",
    "group by spo.salesPersonID\n",
    "order by ordertotalsum desc\n",
    "limit 5;\n",
    "\"\"\"\n",
    "df = pd.read_sql_query(top_sales_2014, conn)\n",
    "print(df)"
   ]
  },
  {
   "cell_type": "markdown",
   "id": "63884595",
   "metadata": {},
   "source": [
    "#### Quick Analysis"
   ]
  },
  {
   "cell_type": "markdown",
   "id": "8cbefa74",
   "metadata": {},
   "source": [
    "This manual calculation of the top 5 salespersons matches the hard-coded sales data retrieved from *Approach 2* query."
   ]
  },
  {
   "cell_type": "markdown",
   "id": "1eb8e65a",
   "metadata": {},
   "source": [
    "### Sales by Commission"
   ]
  },
  {
   "cell_type": "markdown",
   "id": "6803f6a9",
   "metadata": {},
   "source": [
    "Follow up question: What is the correlation, if any, between total sales of salespeople and commission percentages?"
   ]
  },
  {
   "cell_type": "code",
   "execution_count": 18,
   "id": "e51d4bde",
   "metadata": {},
   "outputs": [],
   "source": [
    "sales_commission = \"\"\"\n",
    "with salesPersonTotalSales as (\n",
    "    with salesPersonAndOrders as (\n",
    "        select salesPersonID, salesOrderID\n",
    "        from salesOrderHeader\n",
    "        where (salesPersonID is not null and salesPersonId <> \"\")\n",
    "        and orderDate >= '2014-01-01'\n",
    "), orders as (\n",
    "    select salesOrderID,\n",
    "    sum((unitPrice - (unitPrice * unitPriceDiscount)) * orderQty) as ordertotal\n",
    "    from salesOrderDetail\n",
    "    group by salesOrderID\n",
    ")\n",
    "    select spo.salesPersonID, sum(o.ordertotal) as ordertotalsum\n",
    "    from salesPersonAndOrders spo\n",
    "    join\n",
    "    orders o\n",
    "    on\n",
    "    spo.salesOrderID = o.salesOrderID\n",
    "    group by spo.salesPersonID\n",
    ")\n",
    "select spts.salesPersonID, spts.ordertotalsum, sp.commissionpct\n",
    "from salesPersonTotalSales spts\n",
    "join\n",
    "salesPerson sp\n",
    "on\n",
    "spts.salesPersonID = sp.businessEntityID;\n",
    "\"\"\"\n",
    "df = pd.read_sql_query(sales_commission, conn)\n",
    "# print(df)"
   ]
  },
  {
   "cell_type": "markdown",
   "id": "e9dd46a4",
   "metadata": {},
   "source": [
    "#### Quick Analysis"
   ]
  },
  {
   "cell_type": "markdown",
   "id": "ed61c250",
   "metadata": {},
   "source": [
    "Plotting ordertotalsum and commissionpct"
   ]
  },
  {
   "cell_type": "code",
   "execution_count": 19,
   "id": "d7cf5681",
   "metadata": {},
   "outputs": [
    {
     "data": {
      "image/png": "[encoded data removed]",
      "text/plain": [
       "<Figure size 720x432 with 1 Axes>"
      ]
     },
     "metadata": {
      "needs_background": "light"
     },
     "output_type": "display_data"
    },
    {
     "name": "stdout",
     "output_type": "stream",
     "text": [
      "The correlation between average_price_in_subcategory and total_items_sold_in_subcategory is 0.74.\n"
     ]
    }
   ],
   "source": [
    "# Create a scatter plot\n",
    "plt.figure(figsize=(10,6))\n",
    "plt.scatter(df['ordertotalsum'], df['commissionpct'])\n",
    "\n",
    "# Calculate the best fit line\n",
    "m, b = np.polyfit(df['ordertotalsum'], df['commissionpct'], 1)\n",
    "\n",
    "# Add the best fit line\n",
    "plt.plot(df['ordertotalsum'], m*df['ordertotalsum'] + b, color='red')\n",
    "\n",
    "plt.xlabel('Order Total Sum', fontsize = 14)\n",
    "plt.ylabel('Commission Percentage', fontsize = 14)\n",
    "plt.title('Order Total Sum vs Commission Percentage with Best Fit Line', fontsize=16)\n",
    "plt.show()\n",
    "\n",
    "# Calculate the correlation\n",
    "correlation = df['ordertotalsum'].corr(df['commissionpct'])\n",
    "\n",
    "print(f\"The correlation between average_price_in_subcategory and total_items_sold_in_subcategory is {correlation.round(2)}.\")"
   ]
  },
  {
   "cell_type": "markdown",
   "id": "6bcf986f",
   "metadata": {},
   "source": [
    "##### Since sales are recorded in various currencies, the total sales per salespeople must be converted to one currency, in this case USD, for fair analysis."
   ]
  },
  {
   "cell_type": "markdown",
   "id": "f31542f6",
   "metadata": {},
   "source": [
    "### Converting All Sales to USD for Fair Analysis"
   ]
  },
  {
   "cell_type": "code",
   "execution_count": 20,
   "id": "cc765132",
   "metadata": {},
   "outputs": [
    {
     "name": "stdout",
     "output_type": "stream",
     "text": [
      "   salespersonid  salesorderid currencyrateid tocurrencycode\n",
      "0            274         65294                          None\n",
      "1            274         65298                          None\n",
      "2            274         67277                          None\n",
      "3            274         67286          11427            CAD\n",
      "4            274         69528                          None\n",
      "5            274         69545                          None\n",
      "6            274         71779                          None\n",
      "7            274         71919                          None\n",
      "8            275         65205                          None\n",
      "9            275         65215                          None\n"
     ]
    }
   ],
   "source": [
    "currency = \"\"\"\n",
    "select \n",
    "    soh.salesPersonID, \n",
    "    soh.salesOrderID, \n",
    "    soh.currencyRateID, \n",
    "    cr.toCurrencyCode\n",
    "from salesOrderHeader soh\n",
    "left join\n",
    "currencyRate cr\n",
    "on\n",
    "soh.currencyRateID = cr.currencyRateID\n",
    "where (soh.salesPersonID is not null and soh.salesPersonID <> \"\")\n",
    "and soh.orderDate >= '2014-01-01'\n",
    "order by soh.salesPersonID\n",
    "limit 10;\n",
    "\"\"\"\n",
    "df = pd.read_sql_query(currency, conn)\n",
    "print(df)"
   ]
  },
  {
   "cell_type": "markdown",
   "id": "aaf5ccd3",
   "metadata": {},
   "source": [
    "Replace \"None\" in toCurrencycode column with \"USD\" for clearer user understanding."
   ]
  },
  {
   "cell_type": "code",
   "execution_count": 21,
   "id": "3fb47a98",
   "metadata": {},
   "outputs": [
    {
     "name": "stdout",
     "output_type": "stream",
     "text": [
      "   salespersonid  salesorderid toCurrencyCode\n",
      "0            274         65294            USD\n",
      "1            274         65298            USD\n",
      "2            274         67277            USD\n",
      "3            274         67286            CAD\n",
      "4            274         69528            USD\n",
      "5            274         69545            USD\n",
      "6            274         71779            USD\n",
      "7            274         71919            USD\n",
      "8            275         65205            USD\n",
      "9            275         65215            USD\n"
     ]
    }
   ],
   "source": [
    "to_usd = \"\"\"\n",
    "select \n",
    "    soh.salesPersonID, \n",
    "    soh.salesOrderID,\n",
    "        case\n",
    "            when (cr.toCurrencyCode is null) then 'USD'\n",
    "            else cr.toCurrencyCode\n",
    "        end as toCurrencyCode\n",
    "from salesOrderHeader soh\n",
    "left join\n",
    "currencyRate cr\n",
    "on\n",
    "soh.currencyRateID = cr.currencyRateID\n",
    "where (soh.salesPersonID is not null and soh.salesPersonID <> \"\")\n",
    "and soh.orderDate >= '2014-01-01'\n",
    "order by soh.salesPersonID\n",
    "limit 10;\n",
    "\"\"\"\n",
    "df = pd.read_sql_query(to_usd, conn)\n",
    "print(df)"
   ]
  },
  {
   "cell_type": "markdown",
   "id": "0870f53b",
   "metadata": {},
   "source": [
    "toCurrencyCode column is then included in CTE *salesPersonAndOrders* to create *salesPersonTotalSales* table which is then joined with *salesPerson* to view total sales by currency and identify the top salespeople."
   ]
  },
  {
   "cell_type": "code",
   "execution_count": 22,
   "id": "2da536c7",
   "metadata": {},
   "outputs": [
    {
     "name": "stdout",
     "output_type": "stream",
     "text": [
      "    salesPersonID toCurrencyCode  ordertotalsum  commissionpct\n",
      "0             286            AUD      585755.80           0.02\n",
      "1             285            AUD       21267.34           0.00\n",
      "2             289            CAD     1382996.58           0.02\n",
      "3             278            CAD      435948.96           0.01\n",
      "4             288            EUR      581607.93           0.02\n",
      "5             287            EUR       56637.75           0.00\n",
      "6             282            GBP     1044810.83           0.01\n",
      "7             276            USD     1271088.52           0.01\n",
      "8             275            USD     1057247.38           0.01\n",
      "9             277            USD     1040093.41           0.01\n",
      "10            290            USD      867518.61           0.02\n",
      "11            279            USD      787204.43           0.01\n",
      "12            281            USD      777941.65           0.01\n",
      "13            284            USD      600997.17           0.02\n",
      "14            280            USD      504932.04           0.01\n",
      "15            283            USD      490466.32           0.01\n",
      "16            274            USD      178584.36           0.00\n"
     ]
    }
   ],
   "source": [
    "total_sales = \"\"\" \n",
    "with salesPersonTotalSales as (\n",
    "    with salesPersonAndOrders as (\n",
    "        select soh.salesPersonID, soh.salesOrderID,\n",
    "        case\n",
    "            when (cr.toCurrencyCode is null) then 'USD'\n",
    "            else cr.toCurrencyCode\n",
    "        end as toCurrencyCode\n",
    "        from salesOrderHeader soh\n",
    "        left join\n",
    "        currencyRate cr\n",
    "        on\n",
    "        soh.currencyRateID = cr.currencyRateID\n",
    "        where (soh.salesPersonID is not null and soh.salesPersonID <> \"\")\n",
    "        and soh.orderDate >= '2014-01-01'\n",
    "), orders as (\n",
    "    select salesOrderID,\n",
    "    sum((unitPrice - (unitPrice * unitPriceDiscount)) * orderQty) as ordertotal\n",
    "    from salesOrderDetail\n",
    "    group by salesOrderID\n",
    ")\n",
    "    select spo.salesPersonID, spo.toCurrencyCode, sum(o.ordertotal) as ordertotalsum\n",
    "    from salesPersonAndOrders spo\n",
    "    join\n",
    "    orders o\n",
    "    on\n",
    "    spo.salesOrderID = o.salesOrderID\n",
    "    group by spo.salesPersonID\n",
    ")\n",
    "select spts.salesPersonID, spts.toCurrencyCode, spts.ordertotalsum, sp.commissionpct\n",
    "from salesPersonTotalSales spts\n",
    "join\n",
    "salesPerson sp\n",
    "on\n",
    "spts.salesPersonID = sp.businessEntityID\n",
    "order by spts.toCurrencyCode asc, spts.ordertotalsum desc;\n",
    "\"\"\"\n",
    "df = pd.read_sql_query(total_sales, conn)\n",
    "print(df)"
   ]
  },
  {
   "cell_type": "markdown",
   "id": "b3ec84ce",
   "metadata": {},
   "source": [
    "#### Quick Analysis"
   ]
  },
  {
   "cell_type": "markdown",
   "id": "bd78ea87",
   "metadata": {},
   "source": [
    "The top salespeople by currency are:\n",
    "\n",
    "286            AUD      585,756\n",
    "\n",
    "289            CAD     1,382,997\n",
    "\n",
    "288            EUR      581,608\n",
    "\n",
    "282            GBP     1,044,811\n",
    "\n",
    "276            USD     1,271,089"
   ]
  },
  {
   "cell_type": "code",
   "execution_count": 23,
   "id": "59cd2fa5",
   "metadata": {},
   "outputs": [],
   "source": [
    "# close connection\n",
    "conn.close()"
   ]
  },
  {
   "cell_type": "markdown",
   "id": "a6b4e025",
   "metadata": {},
   "source": [
    "#### Recommendation"
   ]
  },
  {
   "cell_type": "markdown",
   "id": "1d5cd0ab",
   "metadata": {},
   "source": [
    "One recommendation to increase sales is to have the top saleperson per currency code (salesPersonID:286, 289, 288, 282 and 276) focus on selling the most purchased items such as logo caps, helmets, jerseys and water bottles."
   ]
  }
 ],
 "metadata": {
  "kernelspec": {
   "display_name": "Python 3 (ipykernel)",
   "language": "python",
   "name": "python3"
  },
  "language_info": {
   "codemirror_mode": {
    "name": "ipython",
    "version": 3
   },
   "file_extension": ".py",
   "mimetype": "text/x-python",
   "name": "python",
   "nbconvert_exporter": "python",
   "pygments_lexer": "ipython3",
   "version": "3.9.7"
  }
 },
 "nbformat": 4,
 "nbformat_minor": 5
}
